{
 "cells": [
  {
   "cell_type": "markdown",
   "id": "11225a56",
   "metadata": {},
   "source": [
    "# S07 T01 Datos, probabilidades y estadísticas"
   ]
  },
  {
   "cell_type": "code",
   "execution_count": 131,
   "id": "044fde7f",
   "metadata": {},
   "outputs": [],
   "source": [
    "import pandas as pd\n",
    "import numpy as np\n",
    "import seaborn as sns\n",
    "from matplotlib import pyplot as plt"
   ]
  },
  {
   "cell_type": "code",
   "execution_count": 132,
   "id": "a7591d93",
   "metadata": {},
   "outputs": [
    {
     "data": {
      "text/html": [
       "<div>\n",
       "<style scoped>\n",
       "    .dataframe tbody tr th:only-of-type {\n",
       "        vertical-align: middle;\n",
       "    }\n",
       "\n",
       "    .dataframe tbody tr th {\n",
       "        vertical-align: top;\n",
       "    }\n",
       "\n",
       "    .dataframe thead th {\n",
       "        text-align: right;\n",
       "    }\n",
       "</style>\n",
       "<table border=\"1\" class=\"dataframe\">\n",
       "  <thead>\n",
       "    <tr style=\"text-align: right;\">\n",
       "      <th></th>\n",
       "      <th>date</th>\n",
       "      <th>home_team</th>\n",
       "      <th>away_team</th>\n",
       "      <th>home_score</th>\n",
       "      <th>away_score</th>\n",
       "      <th>tournament</th>\n",
       "      <th>city</th>\n",
       "      <th>country</th>\n",
       "      <th>neutral</th>\n",
       "    </tr>\n",
       "  </thead>\n",
       "  <tbody>\n",
       "    <tr>\n",
       "      <th>0</th>\n",
       "      <td>1872-11-30</td>\n",
       "      <td>Scotland</td>\n",
       "      <td>England</td>\n",
       "      <td>0</td>\n",
       "      <td>0</td>\n",
       "      <td>Friendly</td>\n",
       "      <td>Glasgow</td>\n",
       "      <td>Scotland</td>\n",
       "      <td>False</td>\n",
       "    </tr>\n",
       "    <tr>\n",
       "      <th>1</th>\n",
       "      <td>1873-03-08</td>\n",
       "      <td>England</td>\n",
       "      <td>Scotland</td>\n",
       "      <td>4</td>\n",
       "      <td>2</td>\n",
       "      <td>Friendly</td>\n",
       "      <td>London</td>\n",
       "      <td>England</td>\n",
       "      <td>False</td>\n",
       "    </tr>\n",
       "    <tr>\n",
       "      <th>2</th>\n",
       "      <td>1874-03-07</td>\n",
       "      <td>Scotland</td>\n",
       "      <td>England</td>\n",
       "      <td>2</td>\n",
       "      <td>1</td>\n",
       "      <td>Friendly</td>\n",
       "      <td>Glasgow</td>\n",
       "      <td>Scotland</td>\n",
       "      <td>False</td>\n",
       "    </tr>\n",
       "    <tr>\n",
       "      <th>3</th>\n",
       "      <td>1875-03-06</td>\n",
       "      <td>England</td>\n",
       "      <td>Scotland</td>\n",
       "      <td>2</td>\n",
       "      <td>2</td>\n",
       "      <td>Friendly</td>\n",
       "      <td>London</td>\n",
       "      <td>England</td>\n",
       "      <td>False</td>\n",
       "    </tr>\n",
       "    <tr>\n",
       "      <th>4</th>\n",
       "      <td>1876-03-04</td>\n",
       "      <td>Scotland</td>\n",
       "      <td>England</td>\n",
       "      <td>3</td>\n",
       "      <td>0</td>\n",
       "      <td>Friendly</td>\n",
       "      <td>Glasgow</td>\n",
       "      <td>Scotland</td>\n",
       "      <td>False</td>\n",
       "    </tr>\n",
       "    <tr>\n",
       "      <th>...</th>\n",
       "      <td>...</td>\n",
       "      <td>...</td>\n",
       "      <td>...</td>\n",
       "      <td>...</td>\n",
       "      <td>...</td>\n",
       "      <td>...</td>\n",
       "      <td>...</td>\n",
       "      <td>...</td>\n",
       "      <td>...</td>\n",
       "    </tr>\n",
       "    <tr>\n",
       "      <th>42423</th>\n",
       "      <td>2021-07-06</td>\n",
       "      <td>Trinidad and Tobago</td>\n",
       "      <td>French Guiana</td>\n",
       "      <td>1</td>\n",
       "      <td>1</td>\n",
       "      <td>Gold Cup qualification</td>\n",
       "      <td>Fort Lauderdale</td>\n",
       "      <td>United States</td>\n",
       "      <td>True</td>\n",
       "    </tr>\n",
       "    <tr>\n",
       "      <th>42424</th>\n",
       "      <td>2021-07-07</td>\n",
       "      <td>England</td>\n",
       "      <td>Denmark</td>\n",
       "      <td>2</td>\n",
       "      <td>1</td>\n",
       "      <td>UEFA Euro</td>\n",
       "      <td>London</td>\n",
       "      <td>England</td>\n",
       "      <td>False</td>\n",
       "    </tr>\n",
       "    <tr>\n",
       "      <th>42425</th>\n",
       "      <td>2021-07-09</td>\n",
       "      <td>Peru</td>\n",
       "      <td>Colombia</td>\n",
       "      <td>2</td>\n",
       "      <td>3</td>\n",
       "      <td>Copa América</td>\n",
       "      <td>Brasília</td>\n",
       "      <td>Brazil</td>\n",
       "      <td>True</td>\n",
       "    </tr>\n",
       "    <tr>\n",
       "      <th>42426</th>\n",
       "      <td>2021-07-10</td>\n",
       "      <td>Brazil</td>\n",
       "      <td>Argentina</td>\n",
       "      <td>0</td>\n",
       "      <td>1</td>\n",
       "      <td>Copa América</td>\n",
       "      <td>Rio de Janeiro</td>\n",
       "      <td>Brazil</td>\n",
       "      <td>False</td>\n",
       "    </tr>\n",
       "    <tr>\n",
       "      <th>42427</th>\n",
       "      <td>2021-07-11</td>\n",
       "      <td>England</td>\n",
       "      <td>Italy</td>\n",
       "      <td>1</td>\n",
       "      <td>1</td>\n",
       "      <td>UEFA Euro</td>\n",
       "      <td>London</td>\n",
       "      <td>England</td>\n",
       "      <td>False</td>\n",
       "    </tr>\n",
       "  </tbody>\n",
       "</table>\n",
       "<p>42428 rows × 9 columns</p>\n",
       "</div>"
      ],
      "text/plain": [
       "             date            home_team      away_team  home_score  away_score  \\\n",
       "0      1872-11-30             Scotland        England           0           0   \n",
       "1      1873-03-08              England       Scotland           4           2   \n",
       "2      1874-03-07             Scotland        England           2           1   \n",
       "3      1875-03-06              England       Scotland           2           2   \n",
       "4      1876-03-04             Scotland        England           3           0   \n",
       "...           ...                  ...            ...         ...         ...   \n",
       "42423  2021-07-06  Trinidad and Tobago  French Guiana           1           1   \n",
       "42424  2021-07-07              England        Denmark           2           1   \n",
       "42425  2021-07-09                 Peru       Colombia           2           3   \n",
       "42426  2021-07-10               Brazil      Argentina           0           1   \n",
       "42427  2021-07-11              England          Italy           1           1   \n",
       "\n",
       "                   tournament             city        country  neutral  \n",
       "0                    Friendly          Glasgow       Scotland    False  \n",
       "1                    Friendly           London        England    False  \n",
       "2                    Friendly          Glasgow       Scotland    False  \n",
       "3                    Friendly           London        England    False  \n",
       "4                    Friendly          Glasgow       Scotland    False  \n",
       "...                       ...              ...            ...      ...  \n",
       "42423  Gold Cup qualification  Fort Lauderdale  United States     True  \n",
       "42424               UEFA Euro           London        England    False  \n",
       "42425            Copa América         Brasília         Brazil     True  \n",
       "42426            Copa América   Rio de Janeiro         Brazil    False  \n",
       "42427               UEFA Euro           London        England    False  \n",
       "\n",
       "[42428 rows x 9 columns]"
      ]
     },
     "execution_count": 132,
     "metadata": {},
     "output_type": "execute_result"
    }
   ],
   "source": [
    "df = pd.read_csv(\"results.csv\")\n",
    "df"
   ]
  },
  {
   "cell_type": "code",
   "execution_count": 133,
   "id": "2217b88f",
   "metadata": {},
   "outputs": [
    {
     "data": {
      "text/plain": [
       "0"
      ]
     },
     "execution_count": 133,
     "metadata": {},
     "output_type": "execute_result"
    }
   ],
   "source": [
    "# hay valores nulos?\n",
    "df['home_score'].isna().sum()"
   ]
  },
  {
   "cell_type": "code",
   "execution_count": 148,
   "id": "c23fb853",
   "metadata": {},
   "outputs": [
    {
     "data": {
      "text/plain": [
       "<AxesSubplot:ylabel='home_score'>"
      ]
     },
     "execution_count": 148,
     "metadata": {},
     "output_type": "execute_result"
    },
    {
     "data": {
      "image/png": "[encoded data removed]",
      "text/plain": [
       "<Figure size 648x648 with 1 Axes>"
      ]
     },
     "metadata": {},
     "output_type": "display_data"
    }
   ],
   "source": [
    "    counts = df.home_score.value_counts()\n",
    "    # use a pie plot\n",
    "    counts.plot(kind='pie', y=df.home_score, figsize =(9, 9))"
   ]
  },
  {
   "cell_type": "markdown",
   "id": "76e675e5",
   "metadata": {},
   "source": [
    "Se ve que la mayoría de los valores que toma son 0 o 1"
   ]
  },
  {
   "cell_type": "markdown",
   "id": "989abcf5",
   "metadata": {},
   "source": [
    "## Exercici 1\n",
    "Calcular la moda, la media, la desviación estándar y la mediana aritmética de alguno de los atributos, en este caso: home:score "
   ]
  },
  {
   "cell_type": "markdown",
   "id": "6a3f02c5",
   "metadata": {},
   "source": [
    "### Cálculo de la media (el valor promedio)"
   ]
  },
  {
   "cell_type": "code",
   "execution_count": 135,
   "id": "738c0916",
   "metadata": {},
   "outputs": [
    {
     "data": {
      "text/plain": [
       "1.74"
      ]
     },
     "execution_count": 135,
     "metadata": {},
     "output_type": "execute_result"
    }
   ],
   "source": [
    "m = pd.DataFrame.mean(df['home_score'])\n",
    "round(m,2)"
   ]
  },
  {
   "cell_type": "markdown",
   "id": "9a503bb2",
   "metadata": {},
   "source": [
    "### Cálculo de la mediana (el valor que está en el medio de los datos, o el promedio de dos si los datos son pares)"
   ]
  },
  {
   "cell_type": "code",
   "execution_count": 149,
   "id": "d3e14fe0",
   "metadata": {},
   "outputs": [
    {
     "data": {
      "text/plain": [
       "1.0"
      ]
     },
     "execution_count": 149,
     "metadata": {},
     "output_type": "execute_result"
    }
   ],
   "source": [
    "mn = pd.DataFrame.median(df['home_score'])\n",
    "round(mn,2)"
   ]
  },
  {
   "cell_type": "markdown",
   "id": "3dba0af1",
   "metadata": {},
   "source": [
    "### Cálculo de la moda (el valor que más se repite)"
   ]
  },
  {
   "cell_type": "code",
   "execution_count": 146,
   "id": "6ea1de34",
   "metadata": {},
   "outputs": [
    {
     "data": {
      "text/plain": [
       "1"
      ]
     },
     "execution_count": 146,
     "metadata": {},
     "output_type": "execute_result"
    }
   ],
   "source": [
    "md = df['home_score'].mode()[0]\n",
    "md"
   ]
  },
  {
   "cell_type": "markdown",
   "id": "c0d57f94",
   "metadata": {},
   "source": [
    "### Cálculo de la desviación estándar"
   ]
  },
  {
   "cell_type": "code",
   "execution_count": 147,
   "id": "b2a12185",
   "metadata": {},
   "outputs": [
    {
     "data": {
      "text/plain": [
       "1.75"
      ]
     },
     "execution_count": 147,
     "metadata": {},
     "output_type": "execute_result"
    }
   ],
   "source": [
    "sd = pd.DataFrame.std(df['home_score'])\n",
    "round(sd,2)"
   ]
  },
  {
   "cell_type": "markdown",
   "id": "615c1ca5",
   "metadata": {},
   "source": [
    "## Exercici 2\n",
    "Calcular la correlación entre home_score y away_score"
   ]
  },
  {
   "cell_type": "code",
   "execution_count": 138,
   "id": "0a96b429",
   "metadata": {},
   "outputs": [
    {
     "data": {
      "text/plain": [
       "-0.14"
      ]
     },
     "execution_count": 138,
     "metadata": {},
     "output_type": "execute_result"
    }
   ],
   "source": [
    "corr = df[['home_score','away_score']].corr()\n",
    "round(corr.iloc[1,0],2)"
   ]
  },
  {
   "cell_type": "code",
   "execution_count": 139,
   "id": "418cf7a8",
   "metadata": {},
   "outputs": [],
   "source": [
    "# eso significa que las variables no están relacionadas. Tiene sentido, porque los \n",
    "# goles en un partido no dependen de los que haga el otro equipo"
   ]
  },
  {
   "cell_type": "markdown",
   "id": "d203ff4a",
   "metadata": {},
   "source": [
    "## Exercici 3\n",
    "Matriz de correlación (todas las variables del df) graficada"
   ]
  },
  {
   "cell_type": "code",
   "execution_count": 140,
   "id": "019796ce",
   "metadata": {},
   "outputs": [
    {
     "data": {
      "image/png": "[encoded data removed]",
      "text/plain": [
       "<Figure size 432x432 with 2 Axes>"
      ]
     },
     "metadata": {
      "needs_background": "light"
     },
     "output_type": "display_data"
    }
   ],
   "source": [
    "correlac = df.corr()\n",
    "mascara = np.triu(correlac)\n",
    "f, ax = plt.subplots(figsize=(6,6))\n",
    "sns.heatmap(correlac, vmax=1, vmin=-1, square=True, mask=mascara, annot = True);\n",
    "plt.show()"
   ]
  },
  {
   "cell_type": "markdown",
   "id": "7cd079f4",
   "metadata": {},
   "source": [
    "No hay correlación con la varible neutral tampoco"
   ]
  },
  {
   "cell_type": "markdown",
   "id": "88765c4a",
   "metadata": {},
   "source": [
    "## Exercici 4\n",
    "Calcular la media geométrica y la media armónica\n",
    "### Media geométrica\n"
   ]
  },
  {
   "cell_type": "code",
   "execution_count": 150,
   "id": "c2c63b01",
   "metadata": {},
   "outputs": [
    {
     "data": {
      "text/html": [
       "<div>\n",
       "<style scoped>\n",
       "    .dataframe tbody tr th:only-of-type {\n",
       "        vertical-align: middle;\n",
       "    }\n",
       "\n",
       "    .dataframe tbody tr th {\n",
       "        vertical-align: top;\n",
       "    }\n",
       "\n",
       "    .dataframe thead th {\n",
       "        text-align: right;\n",
       "    }\n",
       "</style>\n",
       "<table border=\"1\" class=\"dataframe\">\n",
       "  <thead>\n",
       "    <tr style=\"text-align: right;\">\n",
       "      <th></th>\n",
       "      <th>home_score</th>\n",
       "    </tr>\n",
       "  </thead>\n",
       "  <tbody>\n",
       "    <tr>\n",
       "      <th>0</th>\n",
       "      <td>0</td>\n",
       "    </tr>\n",
       "    <tr>\n",
       "      <th>1</th>\n",
       "      <td>4</td>\n",
       "    </tr>\n",
       "    <tr>\n",
       "      <th>2</th>\n",
       "      <td>2</td>\n",
       "    </tr>\n",
       "    <tr>\n",
       "      <th>3</th>\n",
       "      <td>2</td>\n",
       "    </tr>\n",
       "    <tr>\n",
       "      <th>4</th>\n",
       "      <td>3</td>\n",
       "    </tr>\n",
       "    <tr>\n",
       "      <th>...</th>\n",
       "      <td>...</td>\n",
       "    </tr>\n",
       "    <tr>\n",
       "      <th>42423</th>\n",
       "      <td>1</td>\n",
       "    </tr>\n",
       "    <tr>\n",
       "      <th>42424</th>\n",
       "      <td>2</td>\n",
       "    </tr>\n",
       "    <tr>\n",
       "      <th>42425</th>\n",
       "      <td>2</td>\n",
       "    </tr>\n",
       "    <tr>\n",
       "      <th>42426</th>\n",
       "      <td>0</td>\n",
       "    </tr>\n",
       "    <tr>\n",
       "      <th>42427</th>\n",
       "      <td>1</td>\n",
       "    </tr>\n",
       "  </tbody>\n",
       "</table>\n",
       "<p>42428 rows × 1 columns</p>\n",
       "</div>"
      ],
      "text/plain": [
       "       home_score\n",
       "0               0\n",
       "1               4\n",
       "2               2\n",
       "3               2\n",
       "4               3\n",
       "...           ...\n",
       "42423           1\n",
       "42424           2\n",
       "42425           2\n",
       "42426           0\n",
       "42427           1\n",
       "\n",
       "[42428 rows x 1 columns]"
      ]
     },
     "execution_count": 150,
     "metadata": {},
     "output_type": "execute_result"
    }
   ],
   "source": [
    "from scipy import stats\n",
    "\n",
    "col_home_score = df.iloc[:,3:4]\n",
    "col_home_score"
   ]
  },
  {
   "cell_type": "code",
   "execution_count": 151,
   "id": "75c0b20f",
   "metadata": {},
   "outputs": [
    {
     "name": "stdout",
     "output_type": "stream",
     "text": [
      "[0.]\n"
     ]
    }
   ],
   "source": [
    "import warnings\n",
    "warnings.filterwarnings(\"ignore\")\n",
    "# daba un warning de división por cero\n",
    "\n",
    "print(stats.gmean(col_home_score,axis=0))\n"
   ]
  },
  {
   "cell_type": "code",
   "execution_count": 152,
   "id": "7bc9cd48",
   "metadata": {},
   "outputs": [
    {
     "name": "stdout",
     "output_type": "stream",
     "text": [
      "The Geometric Mean is: 0.0\n"
     ]
    }
   ],
   "source": [
    "# veo si realmente el resultado que obtuve es correcto\n",
    "multiply = 1\n",
    "values = (col_home_score)\n",
    "n = len(values)\n",
    "\n",
    "\n",
    "for i in df.home_score:\n",
    "    multiply = (multiply)*(i)\n",
    "\n",
    "geometricMean = (multiply)**(1/n)\n",
    "print ('The Geometric Mean is: ' + str(geometricMean)) \n"
   ]
  },
  {
   "cell_type": "markdown",
   "id": "5363e8f8",
   "metadata": {},
   "source": [
    "### Media armónica"
   ]
  },
  {
   "cell_type": "code",
   "execution_count": 153,
   "id": "f75b1936",
   "metadata": {},
   "outputs": [
    {
     "name": "stdout",
     "output_type": "stream",
     "text": [
      "The Harmonic Mean is:  0\n"
     ]
    }
   ],
   "source": [
    "import statistics\n",
    "print('The Harmonic Mean is: ', statistics.harmonic_mean(df.home_score))"
   ]
  }
 ],
 "metadata": {
  "kernelspec": {
   "display_name": "Python 3",
   "language": "python",
   "name": "python3"
  },
  "language_info": {
   "codemirror_mode": {
    "name": "ipython",
    "version": 3
   },
   "file_extension": ".py",
   "mimetype": "text/x-python",
   "name": "python",
   "nbconvert_exporter": "python",
   "pygments_lexer": "ipython3",
   "version": "3.8.8"
  }
 },
 "nbformat": 4,
 "nbformat_minor": 5
}
